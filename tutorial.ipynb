{
 "cells": [
  {
   "cell_type": "code",
   "execution_count": 2,
   "metadata": {},
   "outputs": [],
   "source": [
    "import numpy as np\n",
    "\n",
    "import pyswarms as ps\n",
    "from pyswarms.utils.functions import single_obj as fx\n"
   ]
  },
  {
   "cell_type": "code",
   "execution_count": 3,
   "metadata": {},
   "outputs": [
    {
     "name": "stderr",
     "output_type": "stream",
     "text": [
      "2024-06-28 23:27:12,843 - pyswarms.single.global_best - INFO - Optimize for 1000 iters with {'c1': 0.5, 'c2': 0.3, 'w': 0.9}\n",
      "pyswarms.single.global_best: 100%|██████████|1000/1000, best_cost=1.71e-46\n",
      "2024-06-28 23:27:13,126 - pyswarms.single.global_best - INFO - Optimization finished | best cost: 1.709352023785013e-46, best pos: [3.01636912e-24 1.27215062e-23]\n"
     ]
    }
   ],
   "source": [
    "options={'c1': 0.5, 'c2': 0.3, 'w': 0.9}\n",
    "optimizer = ps.single.GlobalBestPSO(n_particles=10, dimensions=2, options=options)\n",
    "cost, pos = optimizer.optimize(fx.sphere, iters=1000)"
   ]
  },
  {
   "cell_type": "code",
   "execution_count": 4,
   "metadata": {},
   "outputs": [],
   "source": [
    "import numpy as np\n",
    "\n",
    "# create a parameterized version of the classic Rosenbrock unconstrained optimzation function\n",
    "def rosenbrock_with_args(x, a, b, c=0):\n",
    "    f = (a - x[:, 0]) ** 2 + b * (x[:, 1] - x[:, 0] ** 2) ** 2 + c\n",
    "    return f"
   ]
  },
  {
   "cell_type": "code",
   "execution_count": 5,
   "metadata": {},
   "outputs": [
    {
     "name": "stderr",
     "output_type": "stream",
     "text": [
      "2024-06-28 23:27:14,048 - pyswarms.single.global_best - INFO - Optimize for 2 iters with {'c1': 0.5, 'c2': 0.3, 'w': 0.9}\n"
     ]
    },
    {
     "name": "stdout",
     "output_type": "stream",
     "text": [
      "[10. 10.]\n"
     ]
    },
    {
     "name": "stderr",
     "output_type": "stream",
     "text": [
      "pyswarms.single.global_best: 100%|██████████|2/2, best_cost=119\n",
      "2024-06-28 23:27:14,049 - pyswarms.single.global_best - INFO - Optimization finished | best cost: 119.42758956253232, best pos: [-1.19764188  2.50485045]\n"
     ]
    }
   ],
   "source": [
    "from pyswarms.single.global_best import GlobalBestPSO\n",
    "\n",
    "# instatiate the optimizer\n",
    "x_max = 10 * np.ones(2)\n",
    "x_min = -1 * x_max\n",
    "bounds = (x_min, x_max)\n",
    "options = {'c1': 0.5, 'c2': 0.3, 'w': 0.9}\n",
    "print(x_max)\n",
    "optimizer = GlobalBestPSO(n_particles=10, dimensions=2, options=options, bounds=bounds)\n",
    "\n",
    "# now run the optimization, pass a=1 and b=100 as a tuple assigned to args\n",
    "\n",
    "cost, pos = optimizer.optimize(rosenbrock_with_args, 2, a=1, b=100, c=0)"
   ]
  },
  {
   "cell_type": "code",
   "execution_count": 6,
   "metadata": {},
   "outputs": [
    {
     "name": "stderr",
     "output_type": "stream",
     "text": [
      "2024-06-28 23:27:14,965 - pyswarms.single.global_best - INFO - Optimize for 1000 iters with {'c1': 0.5, 'c2': 0.3, 'w': 0.9}\n",
      "pyswarms.single.global_best: 100%|██████████|1000/1000, best_cost=5.19e-16\n",
      "2024-06-28 23:27:15,197 - pyswarms.single.global_best - INFO - Optimization finished | best cost: 5.187732110851483e-16, best pos: [1.00000002 1.00000005]\n"
     ]
    }
   ],
   "source": [
    "kwargs={\"a\": 1.0, \"b\": 100.0, 'c':0}\n",
    "cost, pos = optimizer.optimize(rosenbrock_with_args, 1000, **kwargs)"
   ]
  },
  {
   "cell_type": "code",
   "execution_count": 8,
   "metadata": {},
   "outputs": [
    {
     "name": "stderr",
     "output_type": "stream",
     "text": [
      "2024-06-28 23:28:31,961 - pyswarms.single.global_best - INFO - Optimize for 100 iters with {'c1': 0.5, 'c2': 0.3, 'w': 0.9}\n",
      "pyswarms.single.global_best:   0%|          |0/100"
     ]
    },
    {
     "name": "stdout",
     "output_type": "stream",
     "text": [
      "[[0. 0.]\n",
      " [0. 0.]\n",
      " [0. 0.]\n",
      " [0. 0.]\n",
      " [0. 0.]\n",
      " [0. 0.]\n",
      " [0. 0.]\n",
      " [0. 0.]\n",
      " [0. 0.]\n",
      " [0. 0.]\n",
      " [0. 0.]\n",
      " [0. 0.]\n",
      " [0. 0.]\n",
      " [0. 0.]\n",
      " [0. 0.]\n",
      " [0. 0.]\n",
      " [0. 0.]\n",
      " [0. 0.]\n",
      " [0. 0.]\n",
      " [0. 0.]]\n"
     ]
    },
    {
     "name": "stderr",
     "output_type": "stream",
     "text": [
      "\n"
     ]
    },
    {
     "ename": "ValueError",
     "evalue": "setting an array element with a sequence.",
     "output_type": "error",
     "traceback": [
      "\u001b[0;31m---------------------------------------------------------------------------\u001b[0m",
      "\u001b[0;31mTypeError\u001b[0m                                 Traceback (most recent call last)",
      "\u001b[0;31mTypeError\u001b[0m: only length-1 arrays can be converted to Python scalars",
      "\nThe above exception was the direct cause of the following exception:\n",
      "\u001b[0;31mValueError\u001b[0m                                Traceback (most recent call last)",
      "Cell \u001b[0;32mIn[8], line 43\u001b[0m\n\u001b[1;32m     40\u001b[0m optimizer \u001b[38;5;241m=\u001b[39m ps\u001b[38;5;241m.\u001b[39msingle\u001b[38;5;241m.\u001b[39mGlobalBestPSO(n_particles\u001b[38;5;241m=\u001b[39m\u001b[38;5;241m50\u001b[39m, dimensions\u001b[38;5;241m=\u001b[39mN, options\u001b[38;5;241m=\u001b[39moptions, bounds\u001b[38;5;241m=\u001b[39mbounds)\n\u001b[1;32m     42\u001b[0m \u001b[38;5;66;03m# Perform optimization\u001b[39;00m\n\u001b[0;32m---> 43\u001b[0m best_cost, best_u \u001b[38;5;241m=\u001b[39m \u001b[43moptimizer\u001b[49m\u001b[38;5;241;43m.\u001b[39;49m\u001b[43moptimize\u001b[49m\u001b[43m(\u001b[49m\u001b[43mobjective_function\u001b[49m\u001b[43m,\u001b[49m\u001b[43m \u001b[49m\u001b[43miters\u001b[49m\u001b[38;5;241;43m=\u001b[39;49m\u001b[38;5;241;43m100\u001b[39;49m\u001b[43m)\u001b[49m\n\u001b[1;32m     45\u001b[0m \u001b[38;5;66;03m# Print the optimal control\u001b[39;00m\n\u001b[1;32m     46\u001b[0m \u001b[38;5;28mprint\u001b[39m(\u001b[38;5;124m\"\u001b[39m\u001b[38;5;124mOptimal control u(t):\u001b[39m\u001b[38;5;124m\"\u001b[39m, best_u)\n",
      "File \u001b[0;32m~/3B/URA/ura_env/lib/python3.12/site-packages/pyswarms/single/global_best.py:209\u001b[0m, in \u001b[0;36mGlobalBestPSO.optimize\u001b[0;34m(self, objective_func, iters, n_processes, verbose, **kwargs)\u001b[0m\n\u001b[1;32m    205\u001b[0m ftol_history \u001b[38;5;241m=\u001b[39m deque(maxlen\u001b[38;5;241m=\u001b[39m\u001b[38;5;28mself\u001b[39m\u001b[38;5;241m.\u001b[39mftol_iter)\n\u001b[1;32m    206\u001b[0m \u001b[38;5;28;01mfor\u001b[39;00m i \u001b[38;5;129;01min\u001b[39;00m \u001b[38;5;28mself\u001b[39m\u001b[38;5;241m.\u001b[39mrep\u001b[38;5;241m.\u001b[39mpbar(iters, \u001b[38;5;28mself\u001b[39m\u001b[38;5;241m.\u001b[39mname) \u001b[38;5;28;01mif\u001b[39;00m verbose \u001b[38;5;28;01melse\u001b[39;00m \u001b[38;5;28mrange\u001b[39m(iters):\n\u001b[1;32m    207\u001b[0m     \u001b[38;5;66;03m# Compute cost for current position and personal best\u001b[39;00m\n\u001b[1;32m    208\u001b[0m     \u001b[38;5;66;03m# fmt: off\u001b[39;00m\n\u001b[0;32m--> 209\u001b[0m     \u001b[38;5;28mself\u001b[39m\u001b[38;5;241m.\u001b[39mswarm\u001b[38;5;241m.\u001b[39mcurrent_cost \u001b[38;5;241m=\u001b[39m \u001b[43mcompute_objective_function\u001b[49m\u001b[43m(\u001b[49m\u001b[38;5;28;43mself\u001b[39;49m\u001b[38;5;241;43m.\u001b[39;49m\u001b[43mswarm\u001b[49m\u001b[43m,\u001b[49m\u001b[43m \u001b[49m\u001b[43mobjective_func\u001b[49m\u001b[43m,\u001b[49m\u001b[43m \u001b[49m\u001b[43mpool\u001b[49m\u001b[38;5;241;43m=\u001b[39;49m\u001b[43mpool\u001b[49m\u001b[43m,\u001b[49m\u001b[43m \u001b[49m\u001b[38;5;241;43m*\u001b[39;49m\u001b[38;5;241;43m*\u001b[39;49m\u001b[43mkwargs\u001b[49m\u001b[43m)\u001b[49m\n\u001b[1;32m    210\u001b[0m     \u001b[38;5;28mself\u001b[39m\u001b[38;5;241m.\u001b[39mswarm\u001b[38;5;241m.\u001b[39mpbest_pos, \u001b[38;5;28mself\u001b[39m\u001b[38;5;241m.\u001b[39mswarm\u001b[38;5;241m.\u001b[39mpbest_cost \u001b[38;5;241m=\u001b[39m compute_pbest(\u001b[38;5;28mself\u001b[39m\u001b[38;5;241m.\u001b[39mswarm)\n\u001b[1;32m    211\u001b[0m     \u001b[38;5;66;03m# Set best_cost_yet_found for ftol\u001b[39;00m\n",
      "File \u001b[0;32m~/3B/URA/ura_env/lib/python3.12/site-packages/pyswarms/backend/operators.py:239\u001b[0m, in \u001b[0;36mcompute_objective_function\u001b[0;34m(swarm, objective_func, pool, **kwargs)\u001b[0m\n\u001b[1;32m    214\u001b[0m \u001b[38;5;250m\u001b[39m\u001b[38;5;124;03m\"\"\"Evaluate particles using the objective function\u001b[39;00m\n\u001b[1;32m    215\u001b[0m \n\u001b[1;32m    216\u001b[0m \u001b[38;5;124;03mThis method evaluates each particle in the swarm according to the objective\u001b[39;00m\n\u001b[0;32m   (...)\u001b[0m\n\u001b[1;32m    236\u001b[0m \u001b[38;5;124;03m    Cost-matrix for the given swarm\u001b[39;00m\n\u001b[1;32m    237\u001b[0m \u001b[38;5;124;03m\"\"\"\u001b[39;00m\n\u001b[1;32m    238\u001b[0m \u001b[38;5;28;01mif\u001b[39;00m pool \u001b[38;5;129;01mis\u001b[39;00m \u001b[38;5;28;01mNone\u001b[39;00m:\n\u001b[0;32m--> 239\u001b[0m     \u001b[38;5;28;01mreturn\u001b[39;00m \u001b[43mobjective_func\u001b[49m\u001b[43m(\u001b[49m\u001b[43mswarm\u001b[49m\u001b[38;5;241;43m.\u001b[39;49m\u001b[43mposition\u001b[49m\u001b[43m,\u001b[49m\u001b[43m \u001b[49m\u001b[38;5;241;43m*\u001b[39;49m\u001b[38;5;241;43m*\u001b[39;49m\u001b[43mkwargs\u001b[49m\u001b[43m)\u001b[49m\n\u001b[1;32m    240\u001b[0m \u001b[38;5;28;01melse\u001b[39;00m:\n\u001b[1;32m    241\u001b[0m     results \u001b[38;5;241m=\u001b[39m pool\u001b[38;5;241m.\u001b[39mmap(\n\u001b[1;32m    242\u001b[0m         partial(objective_func, \u001b[38;5;241m*\u001b[39m\u001b[38;5;241m*\u001b[39mkwargs),\n\u001b[1;32m    243\u001b[0m         np\u001b[38;5;241m.\u001b[39marray_split(swarm\u001b[38;5;241m.\u001b[39mposition, pool\u001b[38;5;241m.\u001b[39m_processes),\n\u001b[1;32m    244\u001b[0m     )\n",
      "Cell \u001b[0;32mIn[8], line 29\u001b[0m, in \u001b[0;36mobjective_function\u001b[0;34m(u)\u001b[0m\n\u001b[1;32m     28\u001b[0m \u001b[38;5;28;01mdef\u001b[39;00m \u001b[38;5;21mobjective_function\u001b[39m(u):\n\u001b[0;32m---> 29\u001b[0m     x \u001b[38;5;241m=\u001b[39m \u001b[43mstate_equations\u001b[49m\u001b[43m(\u001b[49m\u001b[43mu\u001b[49m\u001b[43m)\u001b[49m\n\u001b[1;32m     30\u001b[0m     term1 \u001b[38;5;241m=\u001b[39m c1 \u001b[38;5;241m*\u001b[39m (x[\u001b[38;5;241m-\u001b[39m\u001b[38;5;241m1\u001b[39m, \u001b[38;5;241m0\u001b[39m] \u001b[38;5;241m-\u001b[39m x1_f)\u001b[38;5;241m*\u001b[39m\u001b[38;5;241m*\u001b[39m\u001b[38;5;241m2\u001b[39m\n\u001b[1;32m     31\u001b[0m     term2 \u001b[38;5;241m=\u001b[39m c2 \u001b[38;5;241m*\u001b[39m (x[\u001b[38;5;241m-\u001b[39m\u001b[38;5;241m1\u001b[39m, \u001b[38;5;241m1\u001b[39m] \u001b[38;5;241m-\u001b[39m x2_f)\u001b[38;5;241m*\u001b[39m\u001b[38;5;241m*\u001b[39m\u001b[38;5;241m2\u001b[39m\n",
      "Cell \u001b[0;32mIn[8], line 25\u001b[0m, in \u001b[0;36mstate_equations\u001b[0;34m(u)\u001b[0m\n\u001b[1;32m     23\u001b[0m \u001b[38;5;28;01mfor\u001b[39;00m i \u001b[38;5;129;01min\u001b[39;00m \u001b[38;5;28mrange\u001b[39m(\u001b[38;5;241m1\u001b[39m, N):\n\u001b[1;32m     24\u001b[0m     x[i, \u001b[38;5;241m0\u001b[39m] \u001b[38;5;241m=\u001b[39m x[i\u001b[38;5;241m-\u001b[39m\u001b[38;5;241m1\u001b[39m, \u001b[38;5;241m0\u001b[39m] \u001b[38;5;241m+\u001b[39m x[i\u001b[38;5;241m-\u001b[39m\u001b[38;5;241m1\u001b[39m, \u001b[38;5;241m1\u001b[39m] \u001b[38;5;241m*\u001b[39m dt\n\u001b[0;32m---> 25\u001b[0m     \u001b[43mx\u001b[49m\u001b[43m[\u001b[49m\u001b[43mi\u001b[49m\u001b[43m,\u001b[49m\u001b[43m \u001b[49m\u001b[38;5;241;43m1\u001b[39;49m\u001b[43m]\u001b[49m \u001b[38;5;241m=\u001b[39m x[i\u001b[38;5;241m-\u001b[39m\u001b[38;5;241m1\u001b[39m, \u001b[38;5;241m1\u001b[39m] \u001b[38;5;241m+\u001b[39m u[i\u001b[38;5;241m-\u001b[39m\u001b[38;5;241m1\u001b[39m] \u001b[38;5;241m*\u001b[39m dt\n\u001b[1;32m     26\u001b[0m \u001b[38;5;28;01mreturn\u001b[39;00m x\n",
      "\u001b[0;31mValueError\u001b[0m: setting an array element with a sequence."
     ]
    }
   ],
   "source": [
    "import numpy as np\n",
    "import pyswarms as ps\n",
    "\n",
    "# Define constants\n",
    "c1 = 1.0\n",
    "c2 = 1.0\n",
    "x1_f = 0.0\n",
    "x2_f = 0.0\n",
    "t_f = 1.0\n",
    "N = 20  # Number of time steps\n",
    "\n",
    "# Time discretization\n",
    "dt = t_f / N\n",
    "time = np.linspace(0, t_f, N)\n",
    "\n",
    "# Initial state\n",
    "x0 = np.array([1.0, 1.0])\n",
    "\n",
    "def state_equations(u):\n",
    "    x = np.zeros((N, 2))\n",
    "    \n",
    "    x[0] = x0\n",
    "    print(x)\n",
    "    for i in range(1, N):\n",
    "        x[i, 0] = x[i-1, 0] + x[i-1, 1] * dt\n",
    "        x[i, 1] = x[i-1, 1] + u[i-1] * dt\n",
    "    return x\n",
    "\n",
    "def objective_function(u):\n",
    "    x = state_equations(u)\n",
    "    term1 = c1 * (x[-1, 0] - x1_f)**2\n",
    "    term2 = c2 * (x[-1, 1] - x2_f)**2\n",
    "    term3 = 0.5 * np.sum(u**2) * dt\n",
    "    return term1 + term2 + term3\n",
    "\n",
    "# Define bounds for u\n",
    "bounds = (-1 * np.ones(N), 1 * np.ones(N))\n",
    "\n",
    "# Initialize the optimizer\n",
    "options = {'c1': 0.5, 'c2': 0.3, 'w': 0.9}\n",
    "optimizer = ps.single.GlobalBestPSO(n_particles=50, dimensions=N, options=options, bounds=bounds)\n",
    "\n",
    "# Perform optimization\n",
    "best_cost, best_u = optimizer.optimize(objective_function, iters=100)\n",
    "\n",
    "# Print the optimal control\n",
    "print(\"Optimal control u(t):\", best_u)\n",
    "    "
   ]
  },
  {
   "cell_type": "code",
   "execution_count": null,
   "metadata": {},
   "outputs": [],
   "source": []
  }
 ],
 "metadata": {
  "kernelspec": {
   "display_name": "ura_env",
   "language": "python",
   "name": "python3"
  },
  "language_info": {
   "codemirror_mode": {
    "name": "ipython",
    "version": 3
   },
   "file_extension": ".py",
   "mimetype": "text/x-python",
   "name": "python",
   "nbconvert_exporter": "python",
   "pygments_lexer": "ipython3",
   "version": "3.12.3"
  }
 },
 "nbformat": 4,
 "nbformat_minor": 2
}
